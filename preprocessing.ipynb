{
 "cells": [
  {
   "cell_type": "markdown",
   "metadata": {},
   "source": [
    "### Import data"
   ]
  },
  {
   "cell_type": "code",
   "execution_count": 71,
   "metadata": {},
   "outputs": [],
   "source": [
    "import pandas as pd"
   ]
  },
  {
   "cell_type": "code",
   "execution_count": 72,
   "metadata": {},
   "outputs": [],
   "source": [
    "data = pd.read_csv('data.csv')"
   ]
  },
  {
   "cell_type": "code",
   "execution_count": 73,
   "metadata": {},
   "outputs": [
    {
     "data": {
      "text/html": [
       "<div>\n",
       "<style scoped>\n",
       "    .dataframe tbody tr th:only-of-type {\n",
       "        vertical-align: middle;\n",
       "    }\n",
       "\n",
       "    .dataframe tbody tr th {\n",
       "        vertical-align: top;\n",
       "    }\n",
       "\n",
       "    .dataframe thead th {\n",
       "        text-align: right;\n",
       "    }\n",
       "</style>\n",
       "<table border=\"1\" class=\"dataframe\">\n",
       "  <thead>\n",
       "    <tr style=\"text-align: right;\">\n",
       "      <th></th>\n",
       "      <th>Timestamp</th>\n",
       "      <th>How many hours on average of sleep do you get on a typical school/workday?</th>\n",
       "      <th>How would you rate your overall stress level in the past month?</th>\n",
       "      <th>How many days in a week do you feel overwhelmed or anxious due to academic responsibilities?</th>\n",
       "      <th>How many times per week do you engage in physical exercise (e.g., walking, running, sports)?</th>\n",
       "      <th>How many hours per week do you spend completing assignments or projects?</th>\n",
       "      <th>How many exams or tests do you typically have in a month?</th>\n",
       "      <th>How would you describe the difficulty level of your current coursework?</th>\n",
       "      <th>How many times a week do you feel that academic deadlines are unmanageable?</th>\n",
       "      <th>Score</th>\n",
       "      <th>How many hours do you spend each week managing academic deadlines?</th>\n",
       "    </tr>\n",
       "  </thead>\n",
       "  <tbody>\n",
       "    <tr>\n",
       "      <th>0</th>\n",
       "      <td>11/25/2024 14:41</td>\n",
       "      <td>9</td>\n",
       "      <td>3</td>\n",
       "      <td>7</td>\n",
       "      <td>1</td>\n",
       "      <td>3</td>\n",
       "      <td>3</td>\n",
       "      <td>3</td>\n",
       "      <td>NaN</td>\n",
       "      <td>NaN</td>\n",
       "      <td>7</td>\n",
       "    </tr>\n",
       "    <tr>\n",
       "      <th>1</th>\n",
       "      <td>11/25/2024 14:44</td>\n",
       "      <td>7</td>\n",
       "      <td>2</td>\n",
       "      <td>0</td>\n",
       "      <td>5</td>\n",
       "      <td>40</td>\n",
       "      <td>0.56</td>\n",
       "      <td>2</td>\n",
       "      <td>NaN</td>\n",
       "      <td>NaN</td>\n",
       "      <td>30</td>\n",
       "    </tr>\n",
       "    <tr>\n",
       "      <th>2</th>\n",
       "      <td>11/25/2024 14:49</td>\n",
       "      <td>6</td>\n",
       "      <td>5</td>\n",
       "      <td>Around 5 days a week</td>\n",
       "      <td>0</td>\n",
       "      <td>Around 4 hours a week</td>\n",
       "      <td>4</td>\n",
       "      <td>5</td>\n",
       "      <td>NaN</td>\n",
       "      <td>NaN</td>\n",
       "      <td>Roughly 10 hours</td>\n",
       "    </tr>\n",
       "    <tr>\n",
       "      <th>3</th>\n",
       "      <td>11/25/2024 14:49</td>\n",
       "      <td>8</td>\n",
       "      <td>2</td>\n",
       "      <td>2</td>\n",
       "      <td>5-6 times</td>\n",
       "      <td>10 hours</td>\n",
       "      <td>3-Feb</td>\n",
       "      <td>2</td>\n",
       "      <td>NaN</td>\n",
       "      <td>NaN</td>\n",
       "      <td>2 hours</td>\n",
       "    </tr>\n",
       "    <tr>\n",
       "      <th>4</th>\n",
       "      <td>11/25/2024 14:49</td>\n",
       "      <td>8</td>\n",
       "      <td>1</td>\n",
       "      <td>0</td>\n",
       "      <td>3</td>\n",
       "      <td>1</td>\n",
       "      <td>1</td>\n",
       "      <td>1</td>\n",
       "      <td>NaN</td>\n",
       "      <td>NaN</td>\n",
       "      <td>3</td>\n",
       "    </tr>\n",
       "  </tbody>\n",
       "</table>\n",
       "</div>"
      ],
      "text/plain": [
       "          Timestamp  \\\n",
       "0  11/25/2024 14:41   \n",
       "1  11/25/2024 14:44   \n",
       "2  11/25/2024 14:49   \n",
       "3  11/25/2024 14:49   \n",
       "4  11/25/2024 14:49   \n",
       "\n",
       "  How many hours on average of sleep do you get on a typical school/workday?  \\\n",
       "0                                                  9                           \n",
       "1                                                  7                           \n",
       "2                                                  6                           \n",
       "3                                                  8                           \n",
       "4                                                  8                           \n",
       "\n",
       "   How would you rate your overall stress level in the past month?  \\\n",
       "0                                                  3                 \n",
       "1                                                  2                 \n",
       "2                                                  5                 \n",
       "3                                                  2                 \n",
       "4                                                  1                 \n",
       "\n",
       "  How many days in a week do you feel overwhelmed or anxious due to academic responsibilities?  \\\n",
       "0                                                  7                                             \n",
       "1                                                  0                                             \n",
       "2                               Around 5 days a week                                             \n",
       "3                                                  2                                             \n",
       "4                                                  0                                             \n",
       "\n",
       "  How many times per week do you engage in physical exercise (e.g., walking, running, sports)?  \\\n",
       "0                                                  1                                             \n",
       "1                                                  5                                             \n",
       "2                                                  0                                             \n",
       "3                                         5-6 times                                              \n",
       "4                                                  3                                             \n",
       "\n",
       "  How many hours per week do you spend completing assignments or projects?   \\\n",
       "0                                                  3                          \n",
       "1                                                 40                          \n",
       "2                              Around 4 hours a week                          \n",
       "3                                           10 hours                          \n",
       "4                                                  1                          \n",
       "\n",
       "  How many exams or tests do you typically have in a month?  \\\n",
       "0                                                  3          \n",
       "1                                               0.56          \n",
       "2                                                  4          \n",
       "3                                              3-Feb          \n",
       "4                                                  1          \n",
       "\n",
       "   How would you describe the difficulty level of your current coursework?  \\\n",
       "0                                                  3                         \n",
       "1                                                  2                         \n",
       "2                                                  5                         \n",
       "3                                                  2                         \n",
       "4                                                  1                         \n",
       "\n",
       "   How many times a week do you feel that academic deadlines are unmanageable?    \\\n",
       "0                                                NaN                               \n",
       "1                                                NaN                               \n",
       "2                                                NaN                               \n",
       "3                                                NaN                               \n",
       "4                                                NaN                               \n",
       "\n",
       "   Score How many hours do you spend each week managing academic deadlines?  \n",
       "0    NaN                                                  7                  \n",
       "1    NaN                                                 30                  \n",
       "2    NaN                                   Roughly 10 hours                  \n",
       "3    NaN                                            2 hours                  \n",
       "4    NaN                                                  3                  "
      ]
     },
     "execution_count": 73,
     "metadata": {},
     "output_type": "execute_result"
    }
   ],
   "source": [
    "data.head()"
   ]
  },
  {
   "cell_type": "code",
   "execution_count": 74,
   "metadata": {},
   "outputs": [
    {
     "data": {
      "text/html": [
       "<div>\n",
       "<style scoped>\n",
       "    .dataframe tbody tr th:only-of-type {\n",
       "        vertical-align: middle;\n",
       "    }\n",
       "\n",
       "    .dataframe tbody tr th {\n",
       "        vertical-align: top;\n",
       "    }\n",
       "\n",
       "    .dataframe thead th {\n",
       "        text-align: right;\n",
       "    }\n",
       "</style>\n",
       "<table border=\"1\" class=\"dataframe\">\n",
       "  <thead>\n",
       "    <tr style=\"text-align: right;\">\n",
       "      <th></th>\n",
       "      <th>How would you rate your overall stress level in the past month?</th>\n",
       "      <th>How would you describe the difficulty level of your current coursework?</th>\n",
       "      <th>How many times a week do you feel that academic deadlines are unmanageable?</th>\n",
       "      <th>Score</th>\n",
       "    </tr>\n",
       "  </thead>\n",
       "  <tbody>\n",
       "    <tr>\n",
       "      <th>count</th>\n",
       "      <td>169.000000</td>\n",
       "      <td>169.000000</td>\n",
       "      <td>0.0</td>\n",
       "      <td>0.0</td>\n",
       "    </tr>\n",
       "    <tr>\n",
       "      <th>mean</th>\n",
       "      <td>3.189349</td>\n",
       "      <td>3.189349</td>\n",
       "      <td>NaN</td>\n",
       "      <td>NaN</td>\n",
       "    </tr>\n",
       "    <tr>\n",
       "      <th>std</th>\n",
       "      <td>1.068880</td>\n",
       "      <td>1.005760</td>\n",
       "      <td>NaN</td>\n",
       "      <td>NaN</td>\n",
       "    </tr>\n",
       "    <tr>\n",
       "      <th>min</th>\n",
       "      <td>1.000000</td>\n",
       "      <td>1.000000</td>\n",
       "      <td>NaN</td>\n",
       "      <td>NaN</td>\n",
       "    </tr>\n",
       "    <tr>\n",
       "      <th>25%</th>\n",
       "      <td>2.000000</td>\n",
       "      <td>3.000000</td>\n",
       "      <td>NaN</td>\n",
       "      <td>NaN</td>\n",
       "    </tr>\n",
       "    <tr>\n",
       "      <th>50%</th>\n",
       "      <td>3.000000</td>\n",
       "      <td>3.000000</td>\n",
       "      <td>NaN</td>\n",
       "      <td>NaN</td>\n",
       "    </tr>\n",
       "    <tr>\n",
       "      <th>75%</th>\n",
       "      <td>4.000000</td>\n",
       "      <td>4.000000</td>\n",
       "      <td>NaN</td>\n",
       "      <td>NaN</td>\n",
       "    </tr>\n",
       "    <tr>\n",
       "      <th>max</th>\n",
       "      <td>5.000000</td>\n",
       "      <td>5.000000</td>\n",
       "      <td>NaN</td>\n",
       "      <td>NaN</td>\n",
       "    </tr>\n",
       "  </tbody>\n",
       "</table>\n",
       "</div>"
      ],
      "text/plain": [
       "       How would you rate your overall stress level in the past month?  \\\n",
       "count                                         169.000000                 \n",
       "mean                                            3.189349                 \n",
       "std                                             1.068880                 \n",
       "min                                             1.000000                 \n",
       "25%                                             2.000000                 \n",
       "50%                                             3.000000                 \n",
       "75%                                             4.000000                 \n",
       "max                                             5.000000                 \n",
       "\n",
       "       How would you describe the difficulty level of your current coursework?  \\\n",
       "count                                         169.000000                         \n",
       "mean                                            3.189349                         \n",
       "std                                             1.005760                         \n",
       "min                                             1.000000                         \n",
       "25%                                             3.000000                         \n",
       "50%                                             3.000000                         \n",
       "75%                                             4.000000                         \n",
       "max                                             5.000000                         \n",
       "\n",
       "       How many times a week do you feel that academic deadlines are unmanageable?    \\\n",
       "count                                                0.0                               \n",
       "mean                                                 NaN                               \n",
       "std                                                  NaN                               \n",
       "min                                                  NaN                               \n",
       "25%                                                  NaN                               \n",
       "50%                                                  NaN                               \n",
       "75%                                                  NaN                               \n",
       "max                                                  NaN                               \n",
       "\n",
       "       Score  \n",
       "count    0.0  \n",
       "mean     NaN  \n",
       "std      NaN  \n",
       "min      NaN  \n",
       "25%      NaN  \n",
       "50%      NaN  \n",
       "75%      NaN  \n",
       "max      NaN  "
      ]
     },
     "execution_count": 74,
     "metadata": {},
     "output_type": "execute_result"
    }
   ],
   "source": [
    "data.describe()"
   ]
  },
  {
   "cell_type": "code",
   "execution_count": 75,
   "metadata": {},
   "outputs": [
    {
     "name": "stdout",
     "output_type": "stream",
     "text": [
      "<class 'pandas.core.frame.DataFrame'>\n",
      "RangeIndex: 169 entries, 0 to 168\n",
      "Data columns (total 11 columns):\n",
      " #   Column                                                                                        Non-Null Count  Dtype  \n",
      "---  ------                                                                                        --------------  -----  \n",
      " 0   Timestamp                                                                                     169 non-null    object \n",
      " 1   How many hours on average of sleep do you get on a typical school/workday?                    169 non-null    object \n",
      " 2   How would you rate your overall stress level in the past month?                               169 non-null    int64  \n",
      " 3   How many days in a week do you feel overwhelmed or anxious due to academic responsibilities?  167 non-null    object \n",
      " 4   How many times per week do you engage in physical exercise (e.g., walking, running, sports)?  168 non-null    object \n",
      " 5   How many hours per week do you spend completing assignments or projects?                      169 non-null    object \n",
      " 6   How many exams or tests do you typically have in a month?                                     169 non-null    object \n",
      " 7   How would you describe the difficulty level of your current coursework?                       169 non-null    int64  \n",
      " 8   How many times a week do you feel that academic deadlines are unmanageable?                   0 non-null      float64\n",
      " 9   Score                                                                                         0 non-null      float64\n",
      " 10  How many hours do you spend each week managing academic deadlines?                            168 non-null    object \n",
      "dtypes: float64(2), int64(2), object(7)\n",
      "memory usage: 14.7+ KB\n"
     ]
    }
   ],
   "source": [
    "data.info()"
   ]
  },
  {
   "cell_type": "markdown",
   "metadata": {},
   "source": [
    "### drop column"
   ]
  },
  {
   "cell_type": "code",
   "execution_count": 76,
   "metadata": {},
   "outputs": [
    {
     "data": {
      "text/plain": [
       "Index(['Timestamp',\n",
       "       'How many times a week do you feel that academic deadlines are unmanageable?  ',\n",
       "       'Score'],\n",
       "      dtype='object')"
      ]
     },
     "execution_count": 76,
     "metadata": {},
     "output_type": "execute_result"
    }
   ],
   "source": [
    "dropped_column = data.columns[[0, -3, -2]]\n",
    "dropped_column"
   ]
  },
  {
   "cell_type": "code",
   "execution_count": 77,
   "metadata": {},
   "outputs": [
    {
     "data": {
      "text/html": [
       "<div>\n",
       "<style scoped>\n",
       "    .dataframe tbody tr th:only-of-type {\n",
       "        vertical-align: middle;\n",
       "    }\n",
       "\n",
       "    .dataframe tbody tr th {\n",
       "        vertical-align: top;\n",
       "    }\n",
       "\n",
       "    .dataframe thead th {\n",
       "        text-align: right;\n",
       "    }\n",
       "</style>\n",
       "<table border=\"1\" class=\"dataframe\">\n",
       "  <thead>\n",
       "    <tr style=\"text-align: right;\">\n",
       "      <th></th>\n",
       "      <th>How many hours on average of sleep do you get on a typical school/workday?</th>\n",
       "      <th>How would you rate your overall stress level in the past month?</th>\n",
       "      <th>How many days in a week do you feel overwhelmed or anxious due to academic responsibilities?</th>\n",
       "      <th>How many times per week do you engage in physical exercise (e.g., walking, running, sports)?</th>\n",
       "      <th>How many hours per week do you spend completing assignments or projects?</th>\n",
       "      <th>How many exams or tests do you typically have in a month?</th>\n",
       "      <th>How would you describe the difficulty level of your current coursework?</th>\n",
       "      <th>How many hours do you spend each week managing academic deadlines?</th>\n",
       "    </tr>\n",
       "  </thead>\n",
       "  <tbody>\n",
       "    <tr>\n",
       "      <th>0</th>\n",
       "      <td>9</td>\n",
       "      <td>3</td>\n",
       "      <td>7</td>\n",
       "      <td>1</td>\n",
       "      <td>3</td>\n",
       "      <td>3</td>\n",
       "      <td>3</td>\n",
       "      <td>7</td>\n",
       "    </tr>\n",
       "    <tr>\n",
       "      <th>1</th>\n",
       "      <td>7</td>\n",
       "      <td>2</td>\n",
       "      <td>0</td>\n",
       "      <td>5</td>\n",
       "      <td>40</td>\n",
       "      <td>0.56</td>\n",
       "      <td>2</td>\n",
       "      <td>30</td>\n",
       "    </tr>\n",
       "    <tr>\n",
       "      <th>2</th>\n",
       "      <td>6</td>\n",
       "      <td>5</td>\n",
       "      <td>Around 5 days a week</td>\n",
       "      <td>0</td>\n",
       "      <td>Around 4 hours a week</td>\n",
       "      <td>4</td>\n",
       "      <td>5</td>\n",
       "      <td>Roughly 10 hours</td>\n",
       "    </tr>\n",
       "    <tr>\n",
       "      <th>3</th>\n",
       "      <td>8</td>\n",
       "      <td>2</td>\n",
       "      <td>2</td>\n",
       "      <td>5-6 times</td>\n",
       "      <td>10 hours</td>\n",
       "      <td>3-Feb</td>\n",
       "      <td>2</td>\n",
       "      <td>2 hours</td>\n",
       "    </tr>\n",
       "    <tr>\n",
       "      <th>4</th>\n",
       "      <td>8</td>\n",
       "      <td>1</td>\n",
       "      <td>0</td>\n",
       "      <td>3</td>\n",
       "      <td>1</td>\n",
       "      <td>1</td>\n",
       "      <td>1</td>\n",
       "      <td>3</td>\n",
       "    </tr>\n",
       "    <tr>\n",
       "      <th>...</th>\n",
       "      <td>...</td>\n",
       "      <td>...</td>\n",
       "      <td>...</td>\n",
       "      <td>...</td>\n",
       "      <td>...</td>\n",
       "      <td>...</td>\n",
       "      <td>...</td>\n",
       "      <td>...</td>\n",
       "    </tr>\n",
       "    <tr>\n",
       "      <th>164</th>\n",
       "      <td>8</td>\n",
       "      <td>3</td>\n",
       "      <td>5</td>\n",
       "      <td>6</td>\n",
       "      <td>10</td>\n",
       "      <td>0-2</td>\n",
       "      <td>2</td>\n",
       "      <td>5</td>\n",
       "    </tr>\n",
       "    <tr>\n",
       "      <th>165</th>\n",
       "      <td>7</td>\n",
       "      <td>3</td>\n",
       "      <td>2</td>\n",
       "      <td>4</td>\n",
       "      <td>10</td>\n",
       "      <td>1</td>\n",
       "      <td>4</td>\n",
       "      <td>7</td>\n",
       "    </tr>\n",
       "    <tr>\n",
       "      <th>166</th>\n",
       "      <td>8</td>\n",
       "      <td>3</td>\n",
       "      <td>2</td>\n",
       "      <td>3</td>\n",
       "      <td>3</td>\n",
       "      <td>2</td>\n",
       "      <td>4</td>\n",
       "      <td>6</td>\n",
       "    </tr>\n",
       "    <tr>\n",
       "      <th>167</th>\n",
       "      <td>6.5</td>\n",
       "      <td>3</td>\n",
       "      <td>5</td>\n",
       "      <td>3</td>\n",
       "      <td>6</td>\n",
       "      <td>0 (only exams after finishing the subjects)</td>\n",
       "      <td>3</td>\n",
       "      <td>3</td>\n",
       "    </tr>\n",
       "    <tr>\n",
       "      <th>168</th>\n",
       "      <td>7</td>\n",
       "      <td>3</td>\n",
       "      <td>2</td>\n",
       "      <td>4</td>\n",
       "      <td>20</td>\n",
       "      <td>2</td>\n",
       "      <td>2</td>\n",
       "      <td>60</td>\n",
       "    </tr>\n",
       "  </tbody>\n",
       "</table>\n",
       "<p>169 rows × 8 columns</p>\n",
       "</div>"
      ],
      "text/plain": [
       "    How many hours on average of sleep do you get on a typical school/workday?  \\\n",
       "0                                                    9                           \n",
       "1                                                    7                           \n",
       "2                                                    6                           \n",
       "3                                                    8                           \n",
       "4                                                    8                           \n",
       "..                                                 ...                           \n",
       "164                                                  8                           \n",
       "165                                                  7                           \n",
       "166                                                  8                           \n",
       "167                                                6.5                           \n",
       "168                                                  7                           \n",
       "\n",
       "     How would you rate your overall stress level in the past month?  \\\n",
       "0                                                    3                 \n",
       "1                                                    2                 \n",
       "2                                                    5                 \n",
       "3                                                    2                 \n",
       "4                                                    1                 \n",
       "..                                                 ...                 \n",
       "164                                                  3                 \n",
       "165                                                  3                 \n",
       "166                                                  3                 \n",
       "167                                                  3                 \n",
       "168                                                  3                 \n",
       "\n",
       "    How many days in a week do you feel overwhelmed or anxious due to academic responsibilities?  \\\n",
       "0                                                    7                                             \n",
       "1                                                    0                                             \n",
       "2                                 Around 5 days a week                                             \n",
       "3                                                    2                                             \n",
       "4                                                    0                                             \n",
       "..                                                 ...                                             \n",
       "164                                                  5                                             \n",
       "165                                                  2                                             \n",
       "166                                                  2                                             \n",
       "167                                                  5                                             \n",
       "168                                                  2                                             \n",
       "\n",
       "    How many times per week do you engage in physical exercise (e.g., walking, running, sports)?  \\\n",
       "0                                                    1                                             \n",
       "1                                                    5                                             \n",
       "2                                                    0                                             \n",
       "3                                           5-6 times                                              \n",
       "4                                                    3                                             \n",
       "..                                                 ...                                             \n",
       "164                                                  6                                             \n",
       "165                                                  4                                             \n",
       "166                                                  3                                             \n",
       "167                                                  3                                             \n",
       "168                                                  4                                             \n",
       "\n",
       "    How many hours per week do you spend completing assignments or projects?   \\\n",
       "0                                                    3                          \n",
       "1                                                   40                          \n",
       "2                                Around 4 hours a week                          \n",
       "3                                             10 hours                          \n",
       "4                                                    1                          \n",
       "..                                                 ...                          \n",
       "164                                                 10                          \n",
       "165                                                 10                          \n",
       "166                                                  3                          \n",
       "167                                                  6                          \n",
       "168                                                 20                          \n",
       "\n",
       "    How many exams or tests do you typically have in a month?  \\\n",
       "0                                                    3          \n",
       "1                                                 0.56          \n",
       "2                                                    4          \n",
       "3                                                3-Feb          \n",
       "4                                                    1          \n",
       "..                                                 ...          \n",
       "164                                                0-2          \n",
       "165                                                  1          \n",
       "166                                                  2          \n",
       "167        0 (only exams after finishing the subjects)          \n",
       "168                                                  2          \n",
       "\n",
       "     How would you describe the difficulty level of your current coursework?  \\\n",
       "0                                                    3                         \n",
       "1                                                    2                         \n",
       "2                                                    5                         \n",
       "3                                                    2                         \n",
       "4                                                    1                         \n",
       "..                                                 ...                         \n",
       "164                                                  2                         \n",
       "165                                                  4                         \n",
       "166                                                  4                         \n",
       "167                                                  3                         \n",
       "168                                                  2                         \n",
       "\n",
       "    How many hours do you spend each week managing academic deadlines?  \n",
       "0                                                    7                  \n",
       "1                                                   30                  \n",
       "2                                     Roughly 10 hours                  \n",
       "3                                              2 hours                  \n",
       "4                                                    3                  \n",
       "..                                                 ...                  \n",
       "164                                                  5                  \n",
       "165                                                  7                  \n",
       "166                                                  6                  \n",
       "167                                                  3                  \n",
       "168                                                 60                  \n",
       "\n",
       "[169 rows x 8 columns]"
      ]
     },
     "execution_count": 77,
     "metadata": {},
     "output_type": "execute_result"
    }
   ],
   "source": [
    "data = data.drop(dropped_column, axis=1)\n",
    "data"
   ]
  },
  {
   "cell_type": "code",
   "execution_count": 78,
   "metadata": {},
   "outputs": [
    {
     "name": "stdout",
     "output_type": "stream",
     "text": [
      "<class 'pandas.core.frame.DataFrame'>\n",
      "RangeIndex: 169 entries, 0 to 168\n",
      "Data columns (total 8 columns):\n",
      " #   Column                                                                                        Non-Null Count  Dtype \n",
      "---  ------                                                                                        --------------  ----- \n",
      " 0   How many hours on average of sleep do you get on a typical school/workday?                    169 non-null    object\n",
      " 1   How would you rate your overall stress level in the past month?                               169 non-null    int64 \n",
      " 2   How many days in a week do you feel overwhelmed or anxious due to academic responsibilities?  167 non-null    object\n",
      " 3   How many times per week do you engage in physical exercise (e.g., walking, running, sports)?  168 non-null    object\n",
      " 4   How many hours per week do you spend completing assignments or projects?                      169 non-null    object\n",
      " 5   How many exams or tests do you typically have in a month?                                     169 non-null    object\n",
      " 6   How would you describe the difficulty level of your current coursework?                       169 non-null    int64 \n",
      " 7   How many hours do you spend each week managing academic deadlines?                            168 non-null    object\n",
      "dtypes: int64(2), object(6)\n",
      "memory usage: 10.7+ KB\n"
     ]
    }
   ],
   "source": [
    "data.info()"
   ]
  },
  {
   "cell_type": "code",
   "execution_count": 79,
   "metadata": {},
   "outputs": [],
   "source": [
    "phrase_to_number = {\n",
    "    'usually none': 0,\n",
    "    'maybe not': 0,\n",
    "    'không ngày nào': 0,\n",
    "    'rarely any': 0,\n",
    "    'none': 0,\n",
    "    'No time for such things': 0,\n",
    "    'cả ngày': 1,\n",
    "    'once a week': 1,\n",
    "    'twice a week': 2,\n",
    "    'Monday to friday (walking)': 5,\n",
    "    'every day': 7,\n",
    "    'the whole week': 7,\n",
    "    'everyday of the week': 7,\n",
    "    'all week': 7,\n",
    "    'everyday': 7,\n",
    "    'all': 7,\n",
    "    'I just walk around the campus. About an hour a day': 7,\n",
    "    'yes but not to much ': 1,\n",
    "    'idk': 0,\n",
    "    'walking': 0\n",
    "}"
   ]
  },
  {
   "cell_type": "markdown",
   "metadata": {},
   "source": [
    "### rename column"
   ]
  },
  {
   "cell_type": "code",
   "execution_count": 80,
   "metadata": {},
   "outputs": [],
   "source": [
    "data = data.rename(columns = {data.columns[0]: 'sleep_time',\n",
    "                       data.columns[1]: 'stress_level',\n",
    "                       data.columns[2]: 'stress_days_per_week',\n",
    "                       data.columns[3]: 'exe_day_per_week',\n",
    "                       data.columns[4]: 'assignment_hour_per_week',\n",
    "                       data.columns[5]: 'num_exams_month',\n",
    "                       data.columns[6]: 'difficulty_level',\n",
    "                       data.columns[7]: 'hours_spend_projects'})"
   ]
  },
  {
   "cell_type": "markdown",
   "metadata": {},
   "source": [
    "### Necessary function"
   ]
  },
  {
   "cell_type": "code",
   "execution_count": 124,
   "metadata": {},
   "outputs": [],
   "source": [
    "def scaling_for_days(value):\n",
    "    if value < 0:\n",
    "        return 0\n",
    "    \n",
    "    if value > 7:\n",
    "        return 7\n",
    "    \n",
    "    return value\n",
    "\n",
    "\n",
    "def scaling_for_hours_week(value):\n",
    "    if value < 0:\n",
    "        return 0\n",
    "    \n",
    "    if value > 7*24:\n",
    "        return 7*24\n",
    "    \n",
    "    return value\n",
    "\n",
    "\n",
    "def scaling_for_exams_month(value):\n",
    "    if value < 0:\n",
    "        return 0\n",
    "    \n",
    "    if value > 36:\n",
    "        return 36\n",
    "    \n",
    "    return value"
   ]
  },
  {
   "cell_type": "code",
   "execution_count": null,
   "metadata": {},
   "outputs": [],
   "source": [
    "import numpy as np\n",
    "\n",
    "phrase_to_number = {\n",
    "    'usually none': 0,\n",
    "    'maybe not': 0,\n",
    "    'không ngày nào': 0,\n",
    "    'rarely any': 0,\n",
    "    'none': 0,\n",
    "    'No time for such things': 0,\n",
    "    'cả ngày': 1,\n",
    "    'once a week': 1,\n",
    "    'twice a week': 2,\n",
    "    'Monday to friday (walking)': 5,\n",
    "    'every day': 7,\n",
    "    'the whole week': 7,\n",
    "    'everyday of the week': 7,\n",
    "    'all week': 7,\n",
    "    'everyday': 7,\n",
    "    'all': 7,\n",
    "    'I just walk around the campus. About an hour a day': 7,\n",
    "    'yes but not to much ': 1,\n",
    "    'idk': 0,\n",
    "    'walking': 0,\n",
    "    '2hours/day': 14,\n",
    "    'once every week': 1,\n",
    "    'an exam every 2 weeks': 0.5,\n",
    "    'one to none': 0.5,\n",
    "    'depends': None,\n",
    "    'depend': None,\n",
    "    'almost none': 0,\n",
    "    'assignments every week': 1,\n",
    "    'only mid term': 1,\n",
    "    'one': 1,\n",
    "    'rarely': 0,\n",
    "    'all the time': 7,\n",
    "    'sometimes': 0.5,\n",
    "    'maybe once a week': 1,\n",
    "    'usually 3-4 days': 3.5,\n",
    "    'maybe 3-4': 3.5,\n",
    "    'on weekdays': 5,\n",
    "    'on weekends': 2,\n",
    "    'hardly ever': 0,\n",
    "    'every weekend': 2,\n",
    "    'a few times': 0.5,\n",
    "    \n",
    "    'Depends': None,\n",
    "    \"I don't get the point of the question, its the same with above question\": None,\n",
    "    \"I don't get this question\": None,\n",
    "    'variety': None,\n",
    "    'Unsure': None,\n",
    "    'Not much really': None,\n",
    "    \"We don't have academic deadlines right now\": None,\n",
    "    \"I don't know\": None,\n",
    "    \"i don't knwo\": None,\n",
    "    'minimum 60 hours per week': 60,\n",
    "    'More than 40 hours/week': 40,\n",
    "    'all the time': 7,\n",
    "    'every other day': 3.5,\n",
    "    'most days': 5,\n",
    "    'once in a while': 0.5,\n",
    "    'barely ever': 0,\n",
    "    'not much': 0,\n",
    "    'over a week': 7,\n",
    "    'around the clock': 7\n",
    "}\n"
   ]
  },
  {
   "cell_type": "markdown",
   "metadata": {},
   "source": [
    "### How many hours on average of sleep do you get on a typical school/workday?"
   ]
  },
  {
   "cell_type": "code",
   "execution_count": 82,
   "metadata": {},
   "outputs": [
    {
     "data": {
      "text/plain": [
       "array(['9', '7', '6', '8', '5', '4', '6-7 hours', '6 hour', '7-8 hours',\n",
       "       '3 hous/day', '6h ', '5 to 6', '4-5 hours', '8 hours', '6h',\n",
       "       '6-8 hours', '5 or 6 hours', '7-Jun', '25', '7 to 8 ', '3',\n",
       "       '5-7 hours', '6-May', '5-Apr', '4 hours', '5 hours', '6-Apr',\n",
       "       '8-Jul', '6 hours ', '8 hours or less', '6 tiếng', '7 hours',\n",
       "       '6 maybe 8', 'around 5 to 6 hours', '6h30', '7 or 8', '7-8h',\n",
       "       '6 hours', '8 hour', '7.5',\n",
       "       '5 hours (before phase 1 now i can control it to 7 hours)',\n",
       "       '4 hours at night, 1 - 2 hours during day (after classes)', '7hrs',\n",
       "       '15', '5 hours ', '8h+', '6 hrs', '8h', '8h/ day', '6.5'],\n",
       "      dtype=object)"
      ]
     },
     "execution_count": 82,
     "metadata": {},
     "output_type": "execute_result"
    }
   ],
   "source": [
    "data['sleep_time'].unique()"
   ]
  },
  {
   "cell_type": "code",
   "execution_count": 83,
   "metadata": {},
   "outputs": [],
   "source": [
    "import re\n",
    "\n",
    "def sleep_time_extract(value):\n",
    "    \"\"\"\n",
    "    Extract numbers from a string, return the number if single,\n",
    "    or the average if multiple numbers are found.\n",
    "    \"\"\"\n",
    "    # Find all numbers in the string\n",
    "    numbers = list(map(float, re.findall(r'\\d+(?:\\.\\d+)?', value)))\n",
    "    \n",
    "    if not numbers:  \n",
    "        return None\n",
    "    elif len(numbers) == 1:  \n",
    "        return numbers[0]\n",
    "    else:  \n",
    "        return sum(numbers) / len(numbers)"
   ]
  },
  {
   "cell_type": "code",
   "execution_count": 84,
   "metadata": {},
   "outputs": [],
   "source": [
    "#remove hour and hours in sleep_time column\n",
    "data['sleep_time'] = data['sleep_time'].apply(sleep_time_extract).astype(float)"
   ]
  },
  {
   "cell_type": "code",
   "execution_count": 85,
   "metadata": {},
   "outputs": [],
   "source": [
    "data['sleep_time'] = data['sleep_time'].apply(scaling_for_days).astype(float)"
   ]
  },
  {
   "cell_type": "code",
   "execution_count": 86,
   "metadata": {},
   "outputs": [
    {
     "data": {
      "text/plain": [
       "array([7.        , 6.        , 5.        , 4.        , 6.5       ,\n",
       "       3.        , 5.5       , 4.5       , 4.33333333, 2.33333333])"
      ]
     },
     "execution_count": 86,
     "metadata": {},
     "output_type": "execute_result"
    }
   ],
   "source": [
    "# outlier 25 hours but we will keep it for later preprocessing\n",
    "data['sleep_time'].unique()"
   ]
  },
  {
   "cell_type": "code",
   "execution_count": 87,
   "metadata": {},
   "outputs": [
    {
     "data": {
      "text/plain": [
       "sleep_time\n",
       "7.000000    81\n",
       "6.000000    47\n",
       "5.000000    21\n",
       "4.000000     6\n",
       "6.500000     5\n",
       "3.000000     3\n",
       "5.500000     3\n",
       "4.500000     1\n",
       "4.333333     1\n",
       "2.333333     1\n",
       "Name: count, dtype: int64"
      ]
     },
     "execution_count": 87,
     "metadata": {},
     "output_type": "execute_result"
    }
   ],
   "source": [
    "data['sleep_time'].value_counts()"
   ]
  },
  {
   "cell_type": "markdown",
   "metadata": {},
   "source": [
    "### How would you rate your overall stress level in the past month?   "
   ]
  },
  {
   "cell_type": "code",
   "execution_count": 88,
   "metadata": {},
   "outputs": [
    {
     "data": {
      "text/plain": [
       "array([3, 2, 5, 1, 4], dtype=int64)"
      ]
     },
     "execution_count": 88,
     "metadata": {},
     "output_type": "execute_result"
    }
   ],
   "source": [
    "#already cleaned\n",
    "data['stress_level'].unique()"
   ]
  },
  {
   "cell_type": "markdown",
   "metadata": {},
   "source": [
    "### How many days in a week do you feel overwhelmed or anxious due to academic responsibilities?"
   ]
  },
  {
   "cell_type": "code",
   "execution_count": 89,
   "metadata": {},
   "outputs": [
    {
     "data": {
      "text/plain": [
       "array(['7', '0', 'Around 5 days a week', '2', '5', '3-4 days', '1',\n",
       "       '3 days/ week',\n",
       "       'Usually none, depends if its the finals/mid term usually 3-4 days or just a normal week probably 1 day or none',\n",
       "       '7-Jun', 'every day', 'maybe not', '3', '3 days', '1 to 2 days',\n",
       "       '6', '7-Jul', 'The whole week', '4', '8', '4-5 days', '2 days',\n",
       "       '10 days', 'Yes but not to much ', 'Không ngày nào',\n",
       "       'Everyday of the week ',\n",
       "       \"8 days (It's 7 days but someday I double the stress)\", '3-Feb',\n",
       "       'rarely any', 'all week', 'everyday', 'Cả ngày', 'All', 'About 3',\n",
       "       nan, '4-Feb', 'around 5', '0 xD ', '2 or 3 days', '1 or 2 days',\n",
       "       '5 days', 'idk', '5 days (monday to friday)', '1 or 2',\n",
       "       'once a week', '4 days', '4-Mar', 'At least 3', '5-Apr'],\n",
       "      dtype=object)"
      ]
     },
     "execution_count": 89,
     "metadata": {},
     "output_type": "execute_result"
    }
   ],
   "source": [
    "data['stress_days_per_week'].unique()"
   ]
  },
  {
   "cell_type": "code",
   "execution_count": 90,
   "metadata": {},
   "outputs": [],
   "source": [
    "def stress_days_extract(value):\n",
    "    \"\"\"\n",
    "    Extract numbers from a string, return the number if single,\n",
    "    or the average if multiple numbers are found. Handles phrases like\n",
    "    'every day', 'all week', etc., which correspond to specific numbers.\n",
    "    \"\"\"\n",
    "    \n",
    "    # Normalize the input string to lowercase\n",
    "    value_lower = value.lower() if isinstance(value, str) else \"\"\n",
    "    \n",
    "    # Check if the value matches any predefined phrases\n",
    "    for phrase, num in phrase_to_number.items():\n",
    "        if phrase in value_lower:\n",
    "            return num\n",
    "    \n",
    "    # Find all numbers in the string\n",
    "    numbers = list(map(float, re.findall(r'\\d+(?:\\.\\d+)?', value_lower)))\n",
    "    \n",
    "    if not numbers: \n",
    "        return None\n",
    "    elif len(numbers) == 1:  \n",
    "        return numbers[0]\n",
    "    else:  \n",
    "        return sum(numbers) / len(numbers)"
   ]
  },
  {
   "cell_type": "code",
   "execution_count": 91,
   "metadata": {},
   "outputs": [],
   "source": [
    "data['stress_days_per_week'] = data['stress_days_per_week'].apply(stress_days_extract).astype(float)"
   ]
  },
  {
   "cell_type": "code",
   "execution_count": 92,
   "metadata": {},
   "outputs": [
    {
     "data": {
      "text/plain": [
       "array([ 7. ,  0. ,  5. ,  2. ,  3.5,  1. ,  3. ,  1.5,  6. ,  4. ,  8. ,\n",
       "        4.5, 10. ,  7.5,  nan,  2.5])"
      ]
     },
     "execution_count": 92,
     "metadata": {},
     "output_type": "execute_result"
    }
   ],
   "source": [
    "data['stress_days_per_week'].unique()"
   ]
  },
  {
   "cell_type": "code",
   "execution_count": 93,
   "metadata": {},
   "outputs": [],
   "source": [
    "data['stress_days_per_week'] = data['stress_days_per_week'].apply(scaling_for_days).astype(float)"
   ]
  },
  {
   "cell_type": "code",
   "execution_count": 94,
   "metadata": {},
   "outputs": [
    {
     "data": {
      "text/plain": [
       "stress_days_per_week\n",
       "2.0    32\n",
       "7.0    29\n",
       "5.0    29\n",
       "3.0    24\n",
       "0.0    18\n",
       "1.0    13\n",
       "4.0    12\n",
       "1.5     3\n",
       "6.0     3\n",
       "3.5     2\n",
       "4.5     1\n",
       "2.5     1\n",
       "Name: count, dtype: int64"
      ]
     },
     "execution_count": 94,
     "metadata": {},
     "output_type": "execute_result"
    }
   ],
   "source": [
    "data['stress_days_per_week'].value_counts()"
   ]
  },
  {
   "cell_type": "markdown",
   "metadata": {},
   "source": [
    "### How many times per week do you engage in physical exercise (e.g., walking, running, sports)?"
   ]
  },
  {
   "cell_type": "code",
   "execution_count": 95,
   "metadata": {},
   "outputs": [
    {
     "data": {
      "text/plain": [
       "array(['1', '5', '0', '5-6 times ', '3', 'None ', '6', 'Walking ', '2',\n",
       "       'twice a week', 'Monday to friday (walking)', 'every day',\n",
       "       '4 times', '4', '7', 'No time for such things',\n",
       "       'I just walk around the campus. About an hour a day',\n",
       "       '4 to 5 days ', '150 min', '1 to 2 times', '5-6 times per week',\n",
       "       '5 days a week (running)', '3 hours and 30 minutes', '-100',\n",
       "       '6-May', '2 times', '7 hours', nan, 'Everyday ', '5 days/week',\n",
       "       '2-Jan', '3 times a week', '4 day a week', '4-Mar',\n",
       "       'approximately 7 times, once per day',\n",
       "       'During phase 1 of my first year, I worked out every day. In phase 2, due to a tight schedule and a lot of assignments, I could only work out 1-2 days a week.',\n",
       "       '5 times a week', '2 days', '3.5 hours', '2 lần', 'Around 8 hours',\n",
       "       'Mostly everyday', 'walking', '1-2 days', 'around 3', '1 hour',\n",
       "       '1 (dancing)', '1 time',\n",
       "       '5 (if walking to the univresity also counts)', '3 time',\n",
       "       '2-4 times of week (about more than 1 hours )',\n",
       "       'not too often. like once or twice per week.',\n",
       "       '3-4 times per week', '2 times ', '7 times', '5 days',\n",
       "       'About 5 times', 'twice per week', 'Sports', '8', '5 times',\n",
       "       '48 hrs', '2 hours', 'every morning (7 times)', '7-May',\n",
       "       '4 times/week', '3 days'], dtype=object)"
      ]
     },
     "execution_count": 95,
     "metadata": {},
     "output_type": "execute_result"
    }
   ],
   "source": [
    "data['exe_day_per_week'].unique()"
   ]
  },
  {
   "cell_type": "code",
   "execution_count": 96,
   "metadata": {},
   "outputs": [],
   "source": [
    "def exe_days_extract(value):\n",
    "    \"\"\"\n",
    "    Extract numbers from a string, return the number if single,\n",
    "    or the average if multiple numbers are found. Handles phrases like\n",
    "    'every day', 'all week', etc., which correspond to specific numbers.\n",
    "    \"\"\"\n",
    "    \n",
    "    # Normalize the input string to lowercase\n",
    "    value_lower = value.lower().strip() if isinstance(value, str) else \"\"\n",
    "    \n",
    "    \n",
    "    # Find all numbers in the string\n",
    "    numbers = list(map(float, re.findall(r'\\d+(?:\\.\\d+)?', value_lower)))\n",
    "    \n",
    "    \n",
    "    # Check if the value matches any predefined phrases\n",
    "    for phrase, num in phrase_to_number.items():\n",
    "        if phrase in value_lower:\n",
    "            numbers.append(num)\n",
    "    \n",
    "    \n",
    "    if not numbers: \n",
    "        return None\n",
    "    elif len(numbers) == 1:  \n",
    "        return numbers[0]\n",
    "    else:  \n",
    "        return sum(numbers) / len(numbers)"
   ]
  },
  {
   "cell_type": "code",
   "execution_count": 97,
   "metadata": {},
   "outputs": [],
   "source": [
    "data['exe_day_per_week'] = data['exe_day_per_week'].apply(exe_days_extract).astype(float)"
   ]
  },
  {
   "cell_type": "code",
   "execution_count": 98,
   "metadata": {},
   "outputs": [
    {
     "data": {
      "text/plain": [
       "array([  1.        ,   5.        ,   0.        ,   5.5       ,\n",
       "         3.        ,   6.        ,   2.        ,   7.        ,\n",
       "         4.        ,          nan,   4.5       , 150.        ,\n",
       "         1.5       ,  16.5       , 100.        ,   2.6       ,\n",
       "         3.5       ,   8.        ,   2.5       ,   2.33333333,\n",
       "        48.        ])"
      ]
     },
     "execution_count": 98,
     "metadata": {},
     "output_type": "execute_result"
    }
   ],
   "source": [
    "data['exe_day_per_week'].unique()"
   ]
  },
  {
   "cell_type": "code",
   "execution_count": 99,
   "metadata": {},
   "outputs": [],
   "source": [
    "data['exe_day_per_week'] = data['exe_day_per_week'].apply(scaling_for_days)"
   ]
  },
  {
   "cell_type": "code",
   "execution_count": 100,
   "metadata": {},
   "outputs": [
    {
     "data": {
      "text/plain": [
       "array([1.        , 5.        , 0.        , 5.5       , 3.        ,\n",
       "       6.        , 2.        , 7.        , 4.        ,        nan,\n",
       "       4.5       , 1.5       , 2.6       , 3.5       , 2.5       ,\n",
       "       2.33333333])"
      ]
     },
     "execution_count": 100,
     "metadata": {},
     "output_type": "execute_result"
    }
   ],
   "source": [
    "data['exe_day_per_week'].unique()"
   ]
  },
  {
   "cell_type": "markdown",
   "metadata": {},
   "source": [
    "### filling nan value"
   ]
  },
  {
   "cell_type": "code",
   "execution_count": 101,
   "metadata": {},
   "outputs": [
    {
     "data": {
      "text/html": [
       "<div>\n",
       "<style scoped>\n",
       "    .dataframe tbody tr th:only-of-type {\n",
       "        vertical-align: middle;\n",
       "    }\n",
       "\n",
       "    .dataframe tbody tr th {\n",
       "        vertical-align: top;\n",
       "    }\n",
       "\n",
       "    .dataframe thead th {\n",
       "        text-align: right;\n",
       "    }\n",
       "</style>\n",
       "<table border=\"1\" class=\"dataframe\">\n",
       "  <thead>\n",
       "    <tr style=\"text-align: right;\">\n",
       "      <th></th>\n",
       "      <th>sleep_time</th>\n",
       "      <th>stress_level</th>\n",
       "      <th>stress_days_per_week</th>\n",
       "      <th>exe_day_per_week</th>\n",
       "    </tr>\n",
       "  </thead>\n",
       "  <tbody>\n",
       "    <tr>\n",
       "      <th>0</th>\n",
       "      <td>7.0</td>\n",
       "      <td>3</td>\n",
       "      <td>7.0</td>\n",
       "      <td>1.0</td>\n",
       "    </tr>\n",
       "    <tr>\n",
       "      <th>1</th>\n",
       "      <td>7.0</td>\n",
       "      <td>2</td>\n",
       "      <td>0.0</td>\n",
       "      <td>5.0</td>\n",
       "    </tr>\n",
       "    <tr>\n",
       "      <th>2</th>\n",
       "      <td>6.0</td>\n",
       "      <td>5</td>\n",
       "      <td>5.0</td>\n",
       "      <td>0.0</td>\n",
       "    </tr>\n",
       "    <tr>\n",
       "      <th>3</th>\n",
       "      <td>7.0</td>\n",
       "      <td>2</td>\n",
       "      <td>2.0</td>\n",
       "      <td>5.5</td>\n",
       "    </tr>\n",
       "    <tr>\n",
       "      <th>4</th>\n",
       "      <td>7.0</td>\n",
       "      <td>1</td>\n",
       "      <td>0.0</td>\n",
       "      <td>3.0</td>\n",
       "    </tr>\n",
       "  </tbody>\n",
       "</table>\n",
       "</div>"
      ],
      "text/plain": [
       "   sleep_time  stress_level  stress_days_per_week  exe_day_per_week\n",
       "0         7.0             3                   7.0               1.0\n",
       "1         7.0             2                   0.0               5.0\n",
       "2         6.0             5                   5.0               0.0\n",
       "3         7.0             2                   2.0               5.5\n",
       "4         7.0             1                   0.0               3.0"
      ]
     },
     "execution_count": 101,
     "metadata": {},
     "output_type": "execute_result"
    }
   ],
   "source": [
    "# Extract to other dataframe first\n",
    "columns_to_extract = data.columns[[num for num in range(4)]]\n",
    "df1 = data[columns_to_extract]\n",
    "df1.head()"
   ]
  },
  {
   "cell_type": "code",
   "execution_count": 102,
   "metadata": {},
   "outputs": [],
   "source": [
    "df1 = df1.fillna(df1.mean())"
   ]
  },
  {
   "cell_type": "code",
   "execution_count": 103,
   "metadata": {},
   "outputs": [
    {
     "name": "stdout",
     "output_type": "stream",
     "text": [
      "<class 'pandas.core.frame.DataFrame'>\n",
      "RangeIndex: 169 entries, 0 to 168\n",
      "Data columns (total 4 columns):\n",
      " #   Column                Non-Null Count  Dtype  \n",
      "---  ------                --------------  -----  \n",
      " 0   sleep_time            169 non-null    float64\n",
      " 1   stress_level          169 non-null    int64  \n",
      " 2   stress_days_per_week  169 non-null    float64\n",
      " 3   exe_day_per_week      169 non-null    float64\n",
      "dtypes: float64(3), int64(1)\n",
      "memory usage: 5.4 KB\n"
     ]
    }
   ],
   "source": [
    "df1.info()"
   ]
  },
  {
   "cell_type": "code",
   "execution_count": 104,
   "metadata": {},
   "outputs": [
    {
     "data": {
      "text/html": [
       "<div>\n",
       "<style scoped>\n",
       "    .dataframe tbody tr th:only-of-type {\n",
       "        vertical-align: middle;\n",
       "    }\n",
       "\n",
       "    .dataframe tbody tr th {\n",
       "        vertical-align: top;\n",
       "    }\n",
       "\n",
       "    .dataframe thead th {\n",
       "        text-align: right;\n",
       "    }\n",
       "</style>\n",
       "<table border=\"1\" class=\"dataframe\">\n",
       "  <thead>\n",
       "    <tr style=\"text-align: right;\">\n",
       "      <th></th>\n",
       "      <th>sleep_time</th>\n",
       "      <th>stress_level</th>\n",
       "      <th>stress_days_per_week</th>\n",
       "      <th>exe_day_per_week</th>\n",
       "    </tr>\n",
       "  </thead>\n",
       "  <tbody>\n",
       "    <tr>\n",
       "      <th>count</th>\n",
       "      <td>169.000000</td>\n",
       "      <td>169.000000</td>\n",
       "      <td>169.000000</td>\n",
       "      <td>169.000000</td>\n",
       "    </tr>\n",
       "    <tr>\n",
       "      <th>mean</th>\n",
       "      <td>6.196252</td>\n",
       "      <td>3.189349</td>\n",
       "      <td>3.482036</td>\n",
       "      <td>3.410634</td>\n",
       "    </tr>\n",
       "    <tr>\n",
       "      <th>std</th>\n",
       "      <td>0.996909</td>\n",
       "      <td>1.068880</td>\n",
       "      <td>2.230666</td>\n",
       "      <td>2.142428</td>\n",
       "    </tr>\n",
       "    <tr>\n",
       "      <th>min</th>\n",
       "      <td>2.333333</td>\n",
       "      <td>1.000000</td>\n",
       "      <td>0.000000</td>\n",
       "      <td>0.000000</td>\n",
       "    </tr>\n",
       "    <tr>\n",
       "      <th>25%</th>\n",
       "      <td>6.000000</td>\n",
       "      <td>2.000000</td>\n",
       "      <td>2.000000</td>\n",
       "      <td>2.000000</td>\n",
       "    </tr>\n",
       "    <tr>\n",
       "      <th>50%</th>\n",
       "      <td>6.500000</td>\n",
       "      <td>3.000000</td>\n",
       "      <td>3.000000</td>\n",
       "      <td>3.000000</td>\n",
       "    </tr>\n",
       "    <tr>\n",
       "      <th>75%</th>\n",
       "      <td>7.000000</td>\n",
       "      <td>4.000000</td>\n",
       "      <td>5.000000</td>\n",
       "      <td>5.000000</td>\n",
       "    </tr>\n",
       "    <tr>\n",
       "      <th>max</th>\n",
       "      <td>7.000000</td>\n",
       "      <td>5.000000</td>\n",
       "      <td>7.000000</td>\n",
       "      <td>7.000000</td>\n",
       "    </tr>\n",
       "  </tbody>\n",
       "</table>\n",
       "</div>"
      ],
      "text/plain": [
       "       sleep_time  stress_level  stress_days_per_week  exe_day_per_week\n",
       "count  169.000000    169.000000            169.000000        169.000000\n",
       "mean     6.196252      3.189349              3.482036          3.410634\n",
       "std      0.996909      1.068880              2.230666          2.142428\n",
       "min      2.333333      1.000000              0.000000          0.000000\n",
       "25%      6.000000      2.000000              2.000000          2.000000\n",
       "50%      6.500000      3.000000              3.000000          3.000000\n",
       "75%      7.000000      4.000000              5.000000          5.000000\n",
       "max      7.000000      5.000000              7.000000          7.000000"
      ]
     },
     "execution_count": 104,
     "metadata": {},
     "output_type": "execute_result"
    }
   ],
   "source": [
    "df1.describe()"
   ]
  },
  {
   "cell_type": "code",
   "execution_count": 105,
   "metadata": {},
   "outputs": [],
   "source": [
    "df1.to_csv('df1.csv')"
   ]
  },
  {
   "cell_type": "markdown",
   "metadata": {},
   "source": [
    "### How many hours per week do you spend completing assignments or projects? "
   ]
  },
  {
   "cell_type": "code",
   "execution_count": 107,
   "metadata": {},
   "outputs": [
    {
     "data": {
      "text/plain": [
       "array(['3', '40', 'Around 4 hours a week', '10 hours', '1', '20', '80',\n",
       "       'Almost the whole day, almost every day', '50', '5-6 hours', '17',\n",
       "       '2', '1-2 week', 'Probably less than 10 hours per week',\n",
       "       'About 20 hours', 'minimum 60 hours per week', 'about 60 hours',\n",
       "       '10', '27', '7', '8-Jun', '1h', 'more than 24 hours', '6',\n",
       "       'about 15 hours', '28 to 30 hours', '8 hours each day', 'Tons',\n",
       "       '60', '30', 'Approximately 10 hours per week', 'About 42 hours',\n",
       "       '24', '5', '4', '5-7h', ' hours', '28', '83866262', '35', '16',\n",
       "       '36-40 hours', '5 hours', 'About 50 hours', '14', '90', '55', '15',\n",
       "       '2hours/day', '8', '5-Apr', 'More than 40 hours/week',\n",
       "       '3 or 4 hours', '3-Feb', '4 hours', '4 hours a day', '3.5 hours',\n",
       "       '1- 3 tiếng', '30 hours', '8 hours on average', 'Over 20',\n",
       "       'Depend on difficulty usually around 20', '6-Apr',\n",
       "       'it is around 42 hours', '21', '48 hours or more', '2-Jan',\n",
       "       'Maybe 5 hours', '21 hours10', '14-15', '112 hours', '3 hours',\n",
       "       '17 hours', 'idk', 'every single days', '25', '11', '45',\n",
       "       'Not much right now, most of the time is spend on self studying.',\n",
       "       '14 hours per week', '14 hours', '12 hrs', '9-10 hours',\n",
       "       'everyday', 'around 30', 'About 10 hours', 'up to 20 hours',\n",
       "       '8 hours', '15 hrs', '19', 'more than 3 hours', '18-19'],\n",
       "      dtype=object)"
      ]
     },
     "execution_count": 107,
     "metadata": {},
     "output_type": "execute_result"
    }
   ],
   "source": [
    "data['assignment_hour_per_week'].unique()"
   ]
  },
  {
   "cell_type": "code",
   "execution_count": 109,
   "metadata": {},
   "outputs": [],
   "source": [
    "def assignment_hour_extract(value):\n",
    "    \"\"\"\n",
    "    Extract numbers from a string, return the number if single,\n",
    "    or the average if multiple numbers are found. Handles phrases like\n",
    "    'every day', 'all week', etc., which correspond to specific numbers.\n",
    "    \"\"\"\n",
    "    \n",
    "    # Normalize the input string to lowercase\n",
    "    value_lower = value.lower().strip() if isinstance(value, str) else \"\"\n",
    "    \n",
    "    \n",
    "    # Find all numbers in the string\n",
    "    numbers = list(map(float, re.findall(r'\\d+(?:\\.\\d+)?', value_lower)))\n",
    "    \n",
    "    \n",
    "    # Check if the value matches any predefined phrases\n",
    "    for phrase, num in phrase_to_number.items():\n",
    "        if phrase in value_lower:\n",
    "            numbers.append(num)\n",
    "    \n",
    "    \n",
    "    if not numbers: \n",
    "        return None\n",
    "    elif len(numbers) == 1:  \n",
    "        return numbers[0]\n",
    "    else:  \n",
    "        return sum(numbers) / len(numbers)"
   ]
  },
  {
   "cell_type": "code",
   "execution_count": 110,
   "metadata": {},
   "outputs": [],
   "source": [
    "data['assignment_hour_per_week'] = data['assignment_hour_per_week'].apply(assignment_hour_extract).astype(float)"
   ]
  },
  {
   "cell_type": "code",
   "execution_count": 113,
   "metadata": {},
   "outputs": [
    {
     "data": {
      "text/plain": [
       "array([3.0000000e+00, 4.0000000e+01, 4.0000000e+00, 1.0000000e+01,\n",
       "       1.0000000e+00, 2.0000000e+01, 8.0000000e+01, 7.0000000e+00,\n",
       "       5.0000000e+01, 5.5000000e+00, 1.7000000e+01, 2.0000000e+00,\n",
       "       1.5000000e+00, 6.0000000e+01, 2.7000000e+01, 8.0000000e+00,\n",
       "       2.4000000e+01, 6.0000000e+00, 1.5000000e+01, 2.9000000e+01,\n",
       "                 nan, 3.0000000e+01, 4.2000000e+01, 5.0000000e+00,\n",
       "       2.8000000e+01, 8.3866262e+07, 3.5000000e+01, 1.6000000e+01,\n",
       "       3.8000000e+01, 1.4000000e+01, 9.0000000e+01, 5.5000000e+01,\n",
       "       3.5000000e+00, 1.3500000e+01, 2.1000000e+01, 4.8000000e+01,\n",
       "       1.5500000e+01, 1.4500000e+01, 1.1200000e+02, 0.0000000e+00,\n",
       "       2.5000000e+01, 1.1000000e+01, 4.5000000e+01, 1.2000000e+01,\n",
       "       9.5000000e+00, 1.9000000e+01, 1.8500000e+01])"
      ]
     },
     "execution_count": 113,
     "metadata": {},
     "output_type": "execute_result"
    }
   ],
   "source": [
    "data['assignment_hour_per_week'].unique()"
   ]
  },
  {
   "cell_type": "code",
   "execution_count": 115,
   "metadata": {},
   "outputs": [],
   "source": [
    "data['assignment_hour_per_week'] = data['assignment_hour_per_week'].apply(scaling_for_hours_week).astype(float)"
   ]
  },
  {
   "cell_type": "code",
   "execution_count": 116,
   "metadata": {},
   "outputs": [
    {
     "data": {
      "text/plain": [
       "array([  3. ,  40. ,   4. ,  10. ,   1. ,  20. ,  80. ,   7. ,  50. ,\n",
       "         5.5,  17. ,   2. ,   1.5,  60. ,  27. ,   8. ,  24. ,   6. ,\n",
       "        15. ,  29. ,   nan,  30. ,  42. ,   5. ,  28. , 168. ,  35. ,\n",
       "        16. ,  38. ,  14. ,  90. ,  55. ,   3.5,  13.5,  21. ,  48. ,\n",
       "        15.5,  14.5, 112. ,   0. ,  25. ,  11. ,  45. ,  12. ,   9.5,\n",
       "        19. ,  18.5])"
      ]
     },
     "execution_count": 116,
     "metadata": {},
     "output_type": "execute_result"
    }
   ],
   "source": [
    "data['assignment_hour_per_week'].unique()"
   ]
  },
  {
   "cell_type": "code",
   "execution_count": 117,
   "metadata": {},
   "outputs": [
    {
     "data": {
      "text/plain": [
       "assignment_hour_per_week\n",
       "20.0     17\n",
       "10.0     15\n",
       "4.0      11\n",
       "5.0      11\n",
       "30.0     11\n",
       "3.0      10\n",
       "40.0      8\n",
       "8.0       6\n",
       "15.0      6\n",
       "6.0       6\n",
       "2.0       4\n",
       "14.0      4\n",
       "24.0      4\n",
       "7.0       4\n",
       "60.0      3\n",
       "25.0      3\n",
       "35.0      3\n",
       "1.0       3\n",
       "17.0      2\n",
       "3.5       2\n",
       "16.0      2\n",
       "11.0      2\n",
       "80.0      2\n",
       "42.0      2\n",
       "50.0      2\n",
       "21.0      2\n",
       "45.0      1\n",
       "15.5      1\n",
       "19.0      1\n",
       "12.0      1\n",
       "0.0       1\n",
       "112.0     1\n",
       "9.5       1\n",
       "14.5      1\n",
       "28.0      1\n",
       "48.0      1\n",
       "13.5      1\n",
       "55.0      1\n",
       "90.0      1\n",
       "38.0      1\n",
       "168.0     1\n",
       "29.0      1\n",
       "27.0      1\n",
       "1.5       1\n",
       "5.5       1\n",
       "18.5      1\n",
       "Name: count, dtype: int64"
      ]
     },
     "execution_count": 117,
     "metadata": {},
     "output_type": "execute_result"
    }
   ],
   "source": [
    "data['assignment_hour_per_week'].value_counts()"
   ]
  },
  {
   "cell_type": "markdown",
   "metadata": {},
   "source": [
    "### How many exams or tests do you typically have in a month?"
   ]
  },
  {
   "cell_type": "code",
   "execution_count": 120,
   "metadata": {},
   "outputs": [
    {
     "data": {
      "text/plain": [
       "array(['3', '0.56', '4', '3-Feb', '1', '2-Jan', 'Maybe 3-4', '2',\n",
       "       '2 tests/ month', 'One to none because its my first year',\n",
       "       '1 or 2',\n",
       "       'once every week since i also take part in many courses outside university',\n",
       "       '5', 'Currently, 1 to 2', '1 to 2 ', 'an exam every 2 weeks',\n",
       "       'Depend', '2 exams', 'Maybe 4 hours', '199',\n",
       "       'Many subjects have assignments at the same time for many months',\n",
       "       'One', '10', '9-Jul', 'Assignments every week ',\n",
       "       'In exam season, usually 3 exams/week. Generally, I took other outside course modules so around 5-6 per month.',\n",
       "       '2 tests', '0', '3-4 exams in a month',\n",
       "       'almost none accept finals and projects', 'Thi 5 môn/ tháng',\n",
       "       '2 or 3', '4-Mar', 'only mid term', 'maybe 12 ', '1-2 tests',\n",
       "       'none', '5 tests', '2-5 homeworks',\n",
       "       'For the 1st semester, I have had any exam untill now, but I have 1-2 presentations every week',\n",
       "       '1 test', '3 (math exam, ielts and academic)', 'depends',\n",
       "       'once a month', '1 or 2 ', '3-4 exams', '5-Mar', '1 to 2',\n",
       "       '2 per 2 months', '1 exam', '0.5', '12', '2 or 3 ', '0-2',\n",
       "       '0 (only exams after finishing the subjects)'], dtype=object)"
      ]
     },
     "execution_count": 120,
     "metadata": {},
     "output_type": "execute_result"
    }
   ],
   "source": [
    "data['num_exams_month'].unique()"
   ]
  },
  {
   "cell_type": "code",
   "execution_count": 121,
   "metadata": {},
   "outputs": [],
   "source": [
    "def exams_month_extract(value):\n",
    "    \"\"\"\n",
    "    Extract numbers from a string, return the number if single,\n",
    "    or the average if multiple numbers are found. Handles phrases like\n",
    "    'every day', 'all week', etc., which correspond to specific numbers.\n",
    "    \"\"\"\n",
    "    \n",
    "    # Normalize the input string to lowercase\n",
    "    value_lower = value.lower().strip() if isinstance(value, str) else \"\"\n",
    "    \n",
    "    \n",
    "    # Find all numbers in the string\n",
    "    numbers = list(map(float, re.findall(r'\\d+(?:\\.\\d+)?', value_lower)))\n",
    "    \n",
    "    \n",
    "    # Check if the value matches any predefined phrases\n",
    "    for phrase, num in phrase_to_number.items():\n",
    "        if phrase in value_lower:\n",
    "            numbers.append(num)\n",
    "    \n",
    "    \n",
    "    if not numbers: \n",
    "        return None\n",
    "    elif len(numbers) == 1:  \n",
    "        return numbers[0]\n",
    "    else:  \n",
    "        return sum(numbers) / len(numbers)"
   ]
  },
  {
   "cell_type": "code",
   "execution_count": 122,
   "metadata": {},
   "outputs": [],
   "source": [
    "data['num_exams_month'] = data['num_exams_month'].apply(exams_month_extract).astype(float)"
   ]
  },
  {
   "cell_type": "code",
   "execution_count": 123,
   "metadata": {},
   "outputs": [
    {
     "data": {
      "text/plain": [
       "array([  3.        ,   0.56      ,   4.        ,   1.        ,\n",
       "         2.        ,   3.5       ,   0.        ,   1.5       ,\n",
       "                nan,   5.        , 199.        ,  10.        ,\n",
       "         9.        ,   5.25      ,   2.5       ,  12.        ,\n",
       "         1.33333333,   0.5       ])"
      ]
     },
     "execution_count": 123,
     "metadata": {},
     "output_type": "execute_result"
    }
   ],
   "source": [
    "data['num_exams_month'].unique()"
   ]
  },
  {
   "cell_type": "code",
   "execution_count": 125,
   "metadata": {},
   "outputs": [],
   "source": [
    "data['num_exams_month'] = data['num_exams_month'].apply(scaling_for_exams_month).astype(float)"
   ]
  },
  {
   "cell_type": "code",
   "execution_count": 126,
   "metadata": {},
   "outputs": [
    {
     "data": {
      "text/plain": [
       "array([ 3.        ,  0.56      ,  4.        ,  1.        ,  2.        ,\n",
       "        3.5       ,  0.        ,  1.5       ,         nan,  5.        ,\n",
       "       36.        , 10.        ,  9.        ,  5.25      ,  2.5       ,\n",
       "       12.        ,  1.33333333,  0.5       ])"
      ]
     },
     "execution_count": 126,
     "metadata": {},
     "output_type": "execute_result"
    }
   ],
   "source": [
    "data['num_exams_month'].unique()"
   ]
  },
  {
   "cell_type": "code",
   "execution_count": 127,
   "metadata": {},
   "outputs": [
    {
     "data": {
      "text/plain": [
       "num_exams_month\n",
       "1.000000     50\n",
       "2.000000     41\n",
       "3.000000     22\n",
       "4.000000     11\n",
       "0.000000      9\n",
       "1.500000      7\n",
       "5.000000      5\n",
       "3.500000      4\n",
       "2.500000      2\n",
       "12.000000     2\n",
       "0.560000      1\n",
       "36.000000     1\n",
       "10.000000     1\n",
       "9.000000      1\n",
       "5.250000      1\n",
       "1.333333      1\n",
       "0.500000      1\n",
       "Name: count, dtype: int64"
      ]
     },
     "execution_count": 127,
     "metadata": {},
     "output_type": "execute_result"
    }
   ],
   "source": [
    "data['num_exams_month'].value_counts()"
   ]
  },
  {
   "cell_type": "markdown",
   "metadata": {},
   "source": [
    "### How would you describe the difficulty level of your current coursework?"
   ]
  },
  {
   "cell_type": "code",
   "execution_count": 131,
   "metadata": {},
   "outputs": [
    {
     "data": {
      "text/plain": [
       "array([3, 2, 5, 1, 4], dtype=int64)"
      ]
     },
     "execution_count": 131,
     "metadata": {},
     "output_type": "execute_result"
    }
   ],
   "source": [
    "data['difficulty_level'].unique()"
   ]
  },
  {
   "cell_type": "markdown",
   "metadata": {},
   "source": [
    "### How many hours do you spend each week managing academic deadlines?"
   ]
  },
  {
   "cell_type": "code",
   "execution_count": 133,
   "metadata": {},
   "outputs": [
    {
     "data": {
      "text/plain": [
       "array(['7', '30', 'Roughly 10 hours', '2 hours', '3', '20', '50',\n",
       "       '3-4 hours', '1', '14', '5', '6', 'minimum 60 hours per week',\n",
       "       '1hours', '120', '2', '3h', '28', '10', '3 to 4 hours', '56',\n",
       "       'Depends', '60', '1 hour', '24', '12', nan, '8', '2424', '16',\n",
       "       'I dont get the point of the question, its the same with above question',\n",
       "       '7 hours', '80', '16*7 hours', '87', '0', '2hours/day ',\n",
       "       'More than 40 hours/week', '4 hours', '17', '5-Mar', '4', '15',\n",
       "       '30 mins/ week', '4 hours per week or more', '1 hour 15 minutes ',\n",
       "       '3.5 hours', '1 tiếng', 'Around 10 hours', 'Over 10',\n",
       "       'Around 5 to 8', \"i don't knwo\", '20 hours', '10 hours', '21',\n",
       "       'around 48 hours', '0 xDDDDDD', 'about 20 hours', '7-May',\n",
       "       '24 hours', \"I don't get this question\", 'variety', '40',\n",
       "       'more than 6 hours', '55', 'Unsure', 'Not much really', '48',\n",
       "       '2 hours each week', '16 hours ', '2hrs', '3 hours', '10h+',\n",
       "       'Around 30', 'Over 24 hours', '25', '8 hrs',\n",
       "       \"We don't have academic deadlines right now\", '50-60',\n",
       "       \"I don't know\", '3-Feb', '23'], dtype=object)"
      ]
     },
     "execution_count": 133,
     "metadata": {},
     "output_type": "execute_result"
    }
   ],
   "source": [
    "data['hours_spend_projects'].unique()"
   ]
  },
  {
   "cell_type": "code",
   "execution_count": 136,
   "metadata": {},
   "outputs": [],
   "source": [
    "def hours_deadline_extract(value):\n",
    "    \"\"\"\n",
    "    Extract numbers from a string, return the number if single,\n",
    "    or the average if multiple numbers are found. Handles phrases like\n",
    "    'every day', 'all week', etc., which correspond to specific numbers.\n",
    "    \"\"\"\n",
    "    \n",
    "    # Normalize the input string to lowercase\n",
    "    value_lower = value.lower().strip() if isinstance(value, str) else \"\"\n",
    "    \n",
    "    \n",
    "    # Find all numbers in the string\n",
    "    numbers = list(map(float, re.findall(r'\\d+(?:\\.\\d+)?', value_lower)))\n",
    "    \n",
    "    \n",
    "    # Check if the value matches any predefined phrases\n",
    "    for phrase, num in phrase_to_number.items():\n",
    "        if phrase in value_lower:\n",
    "            numbers.append(num)\n",
    "    \n",
    "    \n",
    "    if not numbers: \n",
    "        return None\n",
    "    elif len(numbers) == 1:  \n",
    "        return numbers[0]\n",
    "    else:  \n",
    "        return sum(numbers) / len(numbers)"
   ]
  },
  {
   "cell_type": "code",
   "execution_count": 137,
   "metadata": {},
   "outputs": [
    {
     "ename": "TypeError",
     "evalue": "unsupported operand type(s) for +: 'int' and 'NoneType'",
     "output_type": "error",
     "traceback": [
      "\u001b[1;31m---------------------------------------------------------------------------\u001b[0m",
      "\u001b[1;31mTypeError\u001b[0m                                 Traceback (most recent call last)",
      "Cell \u001b[1;32mIn[137], line 1\u001b[0m\n\u001b[1;32m----> 1\u001b[0m data[\u001b[38;5;124m'\u001b[39m\u001b[38;5;124mhours_spend_projects\u001b[39m\u001b[38;5;124m'\u001b[39m] \u001b[38;5;241m=\u001b[39m \u001b[43mdata\u001b[49m\u001b[43m[\u001b[49m\u001b[38;5;124;43m'\u001b[39;49m\u001b[38;5;124;43mhours_spend_projects\u001b[39;49m\u001b[38;5;124;43m'\u001b[39;49m\u001b[43m]\u001b[49m\u001b[38;5;241;43m.\u001b[39;49m\u001b[43mapply\u001b[49m\u001b[43m(\u001b[49m\u001b[43mhours_deadline_extract\u001b[49m\u001b[43m)\u001b[49m\u001b[38;5;241m.\u001b[39mastype(\u001b[38;5;28mfloat\u001b[39m)\n",
      "File \u001b[1;32mc:\\Users\\Hi There\\miniconda3\\Lib\\site-packages\\pandas\\core\\series.py:4924\u001b[0m, in \u001b[0;36mSeries.apply\u001b[1;34m(self, func, convert_dtype, args, by_row, **kwargs)\u001b[0m\n\u001b[0;32m   4789\u001b[0m \u001b[38;5;28;01mdef\u001b[39;00m \u001b[38;5;21mapply\u001b[39m(\n\u001b[0;32m   4790\u001b[0m     \u001b[38;5;28mself\u001b[39m,\n\u001b[0;32m   4791\u001b[0m     func: AggFuncType,\n\u001b[1;32m   (...)\u001b[0m\n\u001b[0;32m   4796\u001b[0m     \u001b[38;5;241m*\u001b[39m\u001b[38;5;241m*\u001b[39mkwargs,\n\u001b[0;32m   4797\u001b[0m ) \u001b[38;5;241m-\u001b[39m\u001b[38;5;241m>\u001b[39m DataFrame \u001b[38;5;241m|\u001b[39m Series:\n\u001b[0;32m   4798\u001b[0m \u001b[38;5;250m    \u001b[39m\u001b[38;5;124;03m\"\"\"\u001b[39;00m\n\u001b[0;32m   4799\u001b[0m \u001b[38;5;124;03m    Invoke function on values of Series.\u001b[39;00m\n\u001b[0;32m   4800\u001b[0m \n\u001b[1;32m   (...)\u001b[0m\n\u001b[0;32m   4915\u001b[0m \u001b[38;5;124;03m    dtype: float64\u001b[39;00m\n\u001b[0;32m   4916\u001b[0m \u001b[38;5;124;03m    \"\"\"\u001b[39;00m\n\u001b[0;32m   4917\u001b[0m     \u001b[38;5;28;01mreturn\u001b[39;00m \u001b[43mSeriesApply\u001b[49m\u001b[43m(\u001b[49m\n\u001b[0;32m   4918\u001b[0m \u001b[43m        \u001b[49m\u001b[38;5;28;43mself\u001b[39;49m\u001b[43m,\u001b[49m\n\u001b[0;32m   4919\u001b[0m \u001b[43m        \u001b[49m\u001b[43mfunc\u001b[49m\u001b[43m,\u001b[49m\n\u001b[0;32m   4920\u001b[0m \u001b[43m        \u001b[49m\u001b[43mconvert_dtype\u001b[49m\u001b[38;5;241;43m=\u001b[39;49m\u001b[43mconvert_dtype\u001b[49m\u001b[43m,\u001b[49m\n\u001b[0;32m   4921\u001b[0m \u001b[43m        \u001b[49m\u001b[43mby_row\u001b[49m\u001b[38;5;241;43m=\u001b[39;49m\u001b[43mby_row\u001b[49m\u001b[43m,\u001b[49m\n\u001b[0;32m   4922\u001b[0m \u001b[43m        \u001b[49m\u001b[43margs\u001b[49m\u001b[38;5;241;43m=\u001b[39;49m\u001b[43margs\u001b[49m\u001b[43m,\u001b[49m\n\u001b[0;32m   4923\u001b[0m \u001b[43m        \u001b[49m\u001b[43mkwargs\u001b[49m\u001b[38;5;241;43m=\u001b[39;49m\u001b[43mkwargs\u001b[49m\u001b[43m,\u001b[49m\n\u001b[1;32m-> 4924\u001b[0m \u001b[43m    \u001b[49m\u001b[43m)\u001b[49m\u001b[38;5;241;43m.\u001b[39;49m\u001b[43mapply\u001b[49m\u001b[43m(\u001b[49m\u001b[43m)\u001b[49m\n",
      "File \u001b[1;32mc:\\Users\\Hi There\\miniconda3\\Lib\\site-packages\\pandas\\core\\apply.py:1427\u001b[0m, in \u001b[0;36mSeriesApply.apply\u001b[1;34m(self)\u001b[0m\n\u001b[0;32m   1424\u001b[0m     \u001b[38;5;28;01mreturn\u001b[39;00m \u001b[38;5;28mself\u001b[39m\u001b[38;5;241m.\u001b[39mapply_compat()\n\u001b[0;32m   1426\u001b[0m \u001b[38;5;66;03m# self.func is Callable\u001b[39;00m\n\u001b[1;32m-> 1427\u001b[0m \u001b[38;5;28;01mreturn\u001b[39;00m \u001b[38;5;28;43mself\u001b[39;49m\u001b[38;5;241;43m.\u001b[39;49m\u001b[43mapply_standard\u001b[49m\u001b[43m(\u001b[49m\u001b[43m)\u001b[49m\n",
      "File \u001b[1;32mc:\\Users\\Hi There\\miniconda3\\Lib\\site-packages\\pandas\\core\\apply.py:1507\u001b[0m, in \u001b[0;36mSeriesApply.apply_standard\u001b[1;34m(self)\u001b[0m\n\u001b[0;32m   1501\u001b[0m \u001b[38;5;66;03m# row-wise access\u001b[39;00m\n\u001b[0;32m   1502\u001b[0m \u001b[38;5;66;03m# apply doesn't have a `na_action` keyword and for backward compat reasons\u001b[39;00m\n\u001b[0;32m   1503\u001b[0m \u001b[38;5;66;03m# we need to give `na_action=\"ignore\"` for categorical data.\u001b[39;00m\n\u001b[0;32m   1504\u001b[0m \u001b[38;5;66;03m# TODO: remove the `na_action=\"ignore\"` when that default has been changed in\u001b[39;00m\n\u001b[0;32m   1505\u001b[0m \u001b[38;5;66;03m#  Categorical (GH51645).\u001b[39;00m\n\u001b[0;32m   1506\u001b[0m action \u001b[38;5;241m=\u001b[39m \u001b[38;5;124m\"\u001b[39m\u001b[38;5;124mignore\u001b[39m\u001b[38;5;124m\"\u001b[39m \u001b[38;5;28;01mif\u001b[39;00m \u001b[38;5;28misinstance\u001b[39m(obj\u001b[38;5;241m.\u001b[39mdtype, CategoricalDtype) \u001b[38;5;28;01melse\u001b[39;00m \u001b[38;5;28;01mNone\u001b[39;00m\n\u001b[1;32m-> 1507\u001b[0m mapped \u001b[38;5;241m=\u001b[39m \u001b[43mobj\u001b[49m\u001b[38;5;241;43m.\u001b[39;49m\u001b[43m_map_values\u001b[49m\u001b[43m(\u001b[49m\n\u001b[0;32m   1508\u001b[0m \u001b[43m    \u001b[49m\u001b[43mmapper\u001b[49m\u001b[38;5;241;43m=\u001b[39;49m\u001b[43mcurried\u001b[49m\u001b[43m,\u001b[49m\u001b[43m \u001b[49m\u001b[43mna_action\u001b[49m\u001b[38;5;241;43m=\u001b[39;49m\u001b[43maction\u001b[49m\u001b[43m,\u001b[49m\u001b[43m \u001b[49m\u001b[43mconvert\u001b[49m\u001b[38;5;241;43m=\u001b[39;49m\u001b[38;5;28;43mself\u001b[39;49m\u001b[38;5;241;43m.\u001b[39;49m\u001b[43mconvert_dtype\u001b[49m\n\u001b[0;32m   1509\u001b[0m \u001b[43m\u001b[49m\u001b[43m)\u001b[49m\n\u001b[0;32m   1511\u001b[0m \u001b[38;5;28;01mif\u001b[39;00m \u001b[38;5;28mlen\u001b[39m(mapped) \u001b[38;5;129;01mand\u001b[39;00m \u001b[38;5;28misinstance\u001b[39m(mapped[\u001b[38;5;241m0\u001b[39m], ABCSeries):\n\u001b[0;32m   1512\u001b[0m     \u001b[38;5;66;03m# GH#43986 Need to do list(mapped) in order to get treated as nested\u001b[39;00m\n\u001b[0;32m   1513\u001b[0m     \u001b[38;5;66;03m#  See also GH#25959 regarding EA support\u001b[39;00m\n\u001b[0;32m   1514\u001b[0m     \u001b[38;5;28;01mreturn\u001b[39;00m obj\u001b[38;5;241m.\u001b[39m_constructor_expanddim(\u001b[38;5;28mlist\u001b[39m(mapped), index\u001b[38;5;241m=\u001b[39mobj\u001b[38;5;241m.\u001b[39mindex)\n",
      "File \u001b[1;32mc:\\Users\\Hi There\\miniconda3\\Lib\\site-packages\\pandas\\core\\base.py:921\u001b[0m, in \u001b[0;36mIndexOpsMixin._map_values\u001b[1;34m(self, mapper, na_action, convert)\u001b[0m\n\u001b[0;32m    918\u001b[0m \u001b[38;5;28;01mif\u001b[39;00m \u001b[38;5;28misinstance\u001b[39m(arr, ExtensionArray):\n\u001b[0;32m    919\u001b[0m     \u001b[38;5;28;01mreturn\u001b[39;00m arr\u001b[38;5;241m.\u001b[39mmap(mapper, na_action\u001b[38;5;241m=\u001b[39mna_action)\n\u001b[1;32m--> 921\u001b[0m \u001b[38;5;28;01mreturn\u001b[39;00m \u001b[43malgorithms\u001b[49m\u001b[38;5;241;43m.\u001b[39;49m\u001b[43mmap_array\u001b[49m\u001b[43m(\u001b[49m\u001b[43marr\u001b[49m\u001b[43m,\u001b[49m\u001b[43m \u001b[49m\u001b[43mmapper\u001b[49m\u001b[43m,\u001b[49m\u001b[43m \u001b[49m\u001b[43mna_action\u001b[49m\u001b[38;5;241;43m=\u001b[39;49m\u001b[43mna_action\u001b[49m\u001b[43m,\u001b[49m\u001b[43m \u001b[49m\u001b[43mconvert\u001b[49m\u001b[38;5;241;43m=\u001b[39;49m\u001b[43mconvert\u001b[49m\u001b[43m)\u001b[49m\n",
      "File \u001b[1;32mc:\\Users\\Hi There\\miniconda3\\Lib\\site-packages\\pandas\\core\\algorithms.py:1743\u001b[0m, in \u001b[0;36mmap_array\u001b[1;34m(arr, mapper, na_action, convert)\u001b[0m\n\u001b[0;32m   1741\u001b[0m values \u001b[38;5;241m=\u001b[39m arr\u001b[38;5;241m.\u001b[39mastype(\u001b[38;5;28mobject\u001b[39m, copy\u001b[38;5;241m=\u001b[39m\u001b[38;5;28;01mFalse\u001b[39;00m)\n\u001b[0;32m   1742\u001b[0m \u001b[38;5;28;01mif\u001b[39;00m na_action \u001b[38;5;129;01mis\u001b[39;00m \u001b[38;5;28;01mNone\u001b[39;00m:\n\u001b[1;32m-> 1743\u001b[0m     \u001b[38;5;28;01mreturn\u001b[39;00m \u001b[43mlib\u001b[49m\u001b[38;5;241;43m.\u001b[39;49m\u001b[43mmap_infer\u001b[49m\u001b[43m(\u001b[49m\u001b[43mvalues\u001b[49m\u001b[43m,\u001b[49m\u001b[43m \u001b[49m\u001b[43mmapper\u001b[49m\u001b[43m,\u001b[49m\u001b[43m \u001b[49m\u001b[43mconvert\u001b[49m\u001b[38;5;241;43m=\u001b[39;49m\u001b[43mconvert\u001b[49m\u001b[43m)\u001b[49m\n\u001b[0;32m   1744\u001b[0m \u001b[38;5;28;01melse\u001b[39;00m:\n\u001b[0;32m   1745\u001b[0m     \u001b[38;5;28;01mreturn\u001b[39;00m lib\u001b[38;5;241m.\u001b[39mmap_infer_mask(\n\u001b[0;32m   1746\u001b[0m         values, mapper, mask\u001b[38;5;241m=\u001b[39misna(values)\u001b[38;5;241m.\u001b[39mview(np\u001b[38;5;241m.\u001b[39muint8), convert\u001b[38;5;241m=\u001b[39mconvert\n\u001b[0;32m   1747\u001b[0m     )\n",
      "File \u001b[1;32mlib.pyx:2972\u001b[0m, in \u001b[0;36mpandas._libs.lib.map_infer\u001b[1;34m()\u001b[0m\n",
      "Cell \u001b[1;32mIn[136], line 27\u001b[0m, in \u001b[0;36mhours_deadline_extract\u001b[1;34m(value)\u001b[0m\n\u001b[0;32m     25\u001b[0m     \u001b[38;5;28;01mreturn\u001b[39;00m numbers[\u001b[38;5;241m0\u001b[39m]\n\u001b[0;32m     26\u001b[0m \u001b[38;5;28;01melse\u001b[39;00m:  \n\u001b[1;32m---> 27\u001b[0m     \u001b[38;5;28;01mreturn\u001b[39;00m \u001b[38;5;28;43msum\u001b[39;49m\u001b[43m(\u001b[49m\u001b[43mnumbers\u001b[49m\u001b[43m)\u001b[49m \u001b[38;5;241m/\u001b[39m \u001b[38;5;28mlen\u001b[39m(numbers)\n",
      "\u001b[1;31mTypeError\u001b[0m: unsupported operand type(s) for +: 'int' and 'NoneType'"
     ]
    }
   ],
   "source": [
    "data['hours_spend_projects'] = data['hours_spend_projects'].apply(hours_deadline_extract).astype(float)"
   ]
  },
  {
   "cell_type": "code",
   "execution_count": null,
   "metadata": {},
   "outputs": [],
   "source": []
  }
 ],
 "metadata": {
  "kernelspec": {
   "display_name": "base",
   "language": "python",
   "name": "python3"
  },
  "language_info": {
   "codemirror_mode": {
    "name": "ipython",
    "version": 3
   },
   "file_extension": ".py",
   "mimetype": "text/x-python",
   "name": "python",
   "nbconvert_exporter": "python",
   "pygments_lexer": "ipython3",
   "version": "3.12.4"
  }
 },
 "nbformat": 4,
 "nbformat_minor": 2
}
